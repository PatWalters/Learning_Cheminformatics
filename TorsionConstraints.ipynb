{
 "cells": [
  {
   "cell_type": "code",
   "execution_count": 1,
   "metadata": {},
   "outputs": [],
   "source": [
    "from rdkit import Chem\n",
    "from rdkit.Chem import rdDistGeom\n",
    "from rdkit.Chem import ChemicalForceFields\n",
    "from rdkit.Chem.Draw import IPythonConsole\n"
   ]
  },
  {
   "cell_type": "code",
   "execution_count": 2,
   "metadata": {},
   "outputs": [
    {
     "data": {
      "text/plain": [
       "0"
      ]
     },
     "execution_count": 2,
     "metadata": {},
     "output_type": "execute_result"
    }
   ],
   "source": [
    "m = Chem.MolFromSmiles('CCCCCCCC')\n",
    "mh = Chem.AddHs(m)\n",
    "rdDistGeom.EmbedMolecule(mh)"
   ]
  },
  {
   "cell_type": "code",
   "execution_count": 3,
   "metadata": {},
   "outputs": [
    {
     "data": {
      "application/3dmoljs_load.v0": "<div id=\"3dmolviewer_15537809090642838\"  style=\"position: relative; width: 400px; height: 400px\">\n        <p id=\"3dmolwarning_15537809090642838\" style=\"background-color:#ffcccc;color:black\">You appear to be running in JupyterLab (or JavaScript failed to load for some other reason).  You need to install the 3dmol extension: <br>\n        <tt>jupyter labextension install jupyterlab_3dmol</tt></p>\n        </div>\n<script>\n\nvar loadScriptAsync = function(uri){\n  return new Promise((resolve, reject) => {\n    var tag = document.createElement('script');\n    tag.src = uri;\n    tag.async = true;\n    tag.onload = () => {\n      resolve();\n    };\n  var firstScriptTag = document.getElementsByTagName('script')[0];\n  firstScriptTag.parentNode.insertBefore(tag, firstScriptTag);\n});\n};\n\nif(typeof $3Dmolpromise === 'undefined') {\n$3Dmolpromise = null;\n  $3Dmolpromise = loadScriptAsync('https://3dmol.csb.pitt.edu/build/3Dmol.js');\n}\n\nvar viewer_15537809090642838 = null;\nvar warn = document.getElementById(\"3dmolwarning_15537809090642838\");\nif(warn) {\n    warn.parentNode.removeChild(warn);\n}\n$3Dmolpromise.then(function() {\nviewer_15537809090642838 = $3Dmol.createViewer($(\"#3dmolviewer_15537809090642838\"),{backgroundColor:\"white\"});\n\tviewer_15537809090642838.removeAllModels();\n\tviewer_15537809090642838.addModel(\"\\n     RDKit          3D\\n\\n 26 25  0  0  0  0  0  0  0  0999 V2000\\n   -3.9029    0.3570   -0.3465 C   0  0  0  0  0  0  0  0  0  0  0  0\\n   -2.8594   -0.4346    0.3749 C   0  0  0  0  0  0  0  0  0  0  0  0\\n   -1.4798   -0.1702   -0.2399 C   0  0  0  0  0  0  0  0  0  0  0  0\\n   -0.4483   -0.9680    0.4914 C   0  0  0  0  0  0  0  0  0  0  0  0\\n    0.9514   -0.7812   -0.0407 C   0  0  0  0  0  0  0  0  0  0  0  0\\n    1.3304    0.6529    0.0753 C   0  0  0  0  0  0  0  0  0  0  0  0\\n    2.7181    0.9570   -0.4257 C   0  0  0  0  0  0  0  0  0  0  0  0\\n    3.7979    0.2286    0.2842 C   0  0  0  0  0  0  0  0  0  0  0  0\\n   -4.3230    1.1497    0.3158 H   0  0  0  0  0  0  0  0  0  0  0  0\\n   -4.7292   -0.3164   -0.6646 H   0  0  0  0  0  0  0  0  0  0  0  0\\n   -3.4792    0.8396   -1.2623 H   0  0  0  0  0  0  0  0  0  0  0  0\\n   -2.8585   -0.1465    1.4376 H   0  0  0  0  0  0  0  0  0  0  0  0\\n   -3.0899   -1.5220    0.3059 H   0  0  0  0  0  0  0  0  0  0  0  0\\n   -1.5285   -0.4612   -1.2877 H   0  0  0  0  0  0  0  0  0  0  0  0\\n   -1.3001    0.9267   -0.0791 H   0  0  0  0  0  0  0  0  0  0  0  0\\n   -0.4747   -0.8121    1.5836 H   0  0  0  0  0  0  0  0  0  0  0  0\\n   -0.6913   -2.0592    0.3361 H   0  0  0  0  0  0  0  0  0  0  0  0\\n    1.6053   -1.4701    0.5230 H   0  0  0  0  0  0  0  0  0  0  0  0\\n    0.9457   -1.1431   -1.0877 H   0  0  0  0  0  0  0  0  0  0  0  0\\n    0.6404    1.2382   -0.5826 H   0  0  0  0  0  0  0  0  0  0  0  0\\n    1.1627    1.0113    1.1076 H   0  0  0  0  0  0  0  0  0  0  0  0\\n    2.7656    0.7554   -1.5119 H   0  0  0  0  0  0  0  0  0  0  0  0\\n    2.8491    2.0712   -0.3257 H   0  0  0  0  0  0  0  0  0  0  0  0\\n    3.5228   -0.1365    1.2886 H   0  0  0  0  0  0  0  0  0  0  0  0\\n    4.6796    0.8928    0.4207 H   0  0  0  0  0  0  0  0  0  0  0  0\\n    4.1959   -0.6597   -0.2837 H   0  0  0  0  0  0  0  0  0  0  0  0\\n  1  2  1  0\\n  2  3  1  0\\n  3  4  1  0\\n  4  5  1  0\\n  5  6  1  0\\n  6  7  1  0\\n  7  8  1  0\\n  1  9  1  0\\n  1 10  1  0\\n  1 11  1  0\\n  2 12  1  0\\n  2 13  1  0\\n  3 14  1  0\\n  3 15  1  0\\n  4 16  1  0\\n  4 17  1  0\\n  5 18  1  0\\n  5 19  1  0\\n  6 20  1  0\\n  6 21  1  0\\n  7 22  1  0\\n  7 23  1  0\\n  8 24  1  0\\n  8 25  1  0\\n  8 26  1  0\\nM  END\\n\",\"sdf\");\n\tviewer_15537809090642838.setStyle({\"stick\": {}});\n\tviewer_15537809090642838.setBackgroundColor(\"0xeeeeee\");\n\tviewer_15537809090642838.zoomTo();\nviewer_15537809090642838.render();\n});\n</script>",
      "text/html": [
       "<div id=\"3dmolviewer_15537809090642838\"  style=\"position: relative; width: 400px; height: 400px\">\n",
       "        <p id=\"3dmolwarning_15537809090642838\" style=\"background-color:#ffcccc;color:black\">You appear to be running in JupyterLab (or JavaScript failed to load for some other reason).  You need to install the 3dmol extension: <br>\n",
       "        <tt>jupyter labextension install jupyterlab_3dmol</tt></p>\n",
       "        </div>\n",
       "<script>\n",
       "\n",
       "var loadScriptAsync = function(uri){\n",
       "  return new Promise((resolve, reject) => {\n",
       "    var tag = document.createElement('script');\n",
       "    tag.src = uri;\n",
       "    tag.async = true;\n",
       "    tag.onload = () => {\n",
       "      resolve();\n",
       "    };\n",
       "  var firstScriptTag = document.getElementsByTagName('script')[0];\n",
       "  firstScriptTag.parentNode.insertBefore(tag, firstScriptTag);\n",
       "});\n",
       "};\n",
       "\n",
       "if(typeof $3Dmolpromise === 'undefined') {\n",
       "$3Dmolpromise = null;\n",
       "  $3Dmolpromise = loadScriptAsync('https://3dmol.csb.pitt.edu/build/3Dmol.js');\n",
       "}\n",
       "\n",
       "var viewer_15537809090642838 = null;\n",
       "var warn = document.getElementById(\"3dmolwarning_15537809090642838\");\n",
       "if(warn) {\n",
       "    warn.parentNode.removeChild(warn);\n",
       "}\n",
       "$3Dmolpromise.then(function() {\n",
       "viewer_15537809090642838 = $3Dmol.createViewer($(\"#3dmolviewer_15537809090642838\"),{backgroundColor:\"white\"});\n",
       "\tviewer_15537809090642838.removeAllModels();\n",
       "\tviewer_15537809090642838.addModel(\"\\n     RDKit          3D\\n\\n 26 25  0  0  0  0  0  0  0  0999 V2000\\n   -3.9029    0.3570   -0.3465 C   0  0  0  0  0  0  0  0  0  0  0  0\\n   -2.8594   -0.4346    0.3749 C   0  0  0  0  0  0  0  0  0  0  0  0\\n   -1.4798   -0.1702   -0.2399 C   0  0  0  0  0  0  0  0  0  0  0  0\\n   -0.4483   -0.9680    0.4914 C   0  0  0  0  0  0  0  0  0  0  0  0\\n    0.9514   -0.7812   -0.0407 C   0  0  0  0  0  0  0  0  0  0  0  0\\n    1.3304    0.6529    0.0753 C   0  0  0  0  0  0  0  0  0  0  0  0\\n    2.7181    0.9570   -0.4257 C   0  0  0  0  0  0  0  0  0  0  0  0\\n    3.7979    0.2286    0.2842 C   0  0  0  0  0  0  0  0  0  0  0  0\\n   -4.3230    1.1497    0.3158 H   0  0  0  0  0  0  0  0  0  0  0  0\\n   -4.7292   -0.3164   -0.6646 H   0  0  0  0  0  0  0  0  0  0  0  0\\n   -3.4792    0.8396   -1.2623 H   0  0  0  0  0  0  0  0  0  0  0  0\\n   -2.8585   -0.1465    1.4376 H   0  0  0  0  0  0  0  0  0  0  0  0\\n   -3.0899   -1.5220    0.3059 H   0  0  0  0  0  0  0  0  0  0  0  0\\n   -1.5285   -0.4612   -1.2877 H   0  0  0  0  0  0  0  0  0  0  0  0\\n   -1.3001    0.9267   -0.0791 H   0  0  0  0  0  0  0  0  0  0  0  0\\n   -0.4747   -0.8121    1.5836 H   0  0  0  0  0  0  0  0  0  0  0  0\\n   -0.6913   -2.0592    0.3361 H   0  0  0  0  0  0  0  0  0  0  0  0\\n    1.6053   -1.4701    0.5230 H   0  0  0  0  0  0  0  0  0  0  0  0\\n    0.9457   -1.1431   -1.0877 H   0  0  0  0  0  0  0  0  0  0  0  0\\n    0.6404    1.2382   -0.5826 H   0  0  0  0  0  0  0  0  0  0  0  0\\n    1.1627    1.0113    1.1076 H   0  0  0  0  0  0  0  0  0  0  0  0\\n    2.7656    0.7554   -1.5119 H   0  0  0  0  0  0  0  0  0  0  0  0\\n    2.8491    2.0712   -0.3257 H   0  0  0  0  0  0  0  0  0  0  0  0\\n    3.5228   -0.1365    1.2886 H   0  0  0  0  0  0  0  0  0  0  0  0\\n    4.6796    0.8928    0.4207 H   0  0  0  0  0  0  0  0  0  0  0  0\\n    4.1959   -0.6597   -0.2837 H   0  0  0  0  0  0  0  0  0  0  0  0\\n  1  2  1  0\\n  2  3  1  0\\n  3  4  1  0\\n  4  5  1  0\\n  5  6  1  0\\n  6  7  1  0\\n  7  8  1  0\\n  1  9  1  0\\n  1 10  1  0\\n  1 11  1  0\\n  2 12  1  0\\n  2 13  1  0\\n  3 14  1  0\\n  3 15  1  0\\n  4 16  1  0\\n  4 17  1  0\\n  5 18  1  0\\n  5 19  1  0\\n  6 20  1  0\\n  6 21  1  0\\n  7 22  1  0\\n  7 23  1  0\\n  8 24  1  0\\n  8 25  1  0\\n  8 26  1  0\\nM  END\\n\",\"sdf\");\n",
       "\tviewer_15537809090642838.setStyle({\"stick\": {}});\n",
       "\tviewer_15537809090642838.setBackgroundColor(\"0xeeeeee\");\n",
       "\tviewer_15537809090642838.zoomTo();\n",
       "viewer_15537809090642838.render();\n",
       "});\n",
       "</script>"
      ]
     },
     "metadata": {},
     "output_type": "display_data"
    }
   ],
   "source": [
    "IPythonConsole.drawMol3D(mh)"
   ]
  },
  {
   "cell_type": "code",
   "execution_count": 4,
   "metadata": {},
   "outputs": [],
   "source": [
    "# build the MMFF force field:\n",
    "ffps = ChemicalForceFields.MMFFGetMoleculeProperties(mh)\n",
    "ff = ChemicalForceFields.MMFFGetMoleculeForceField(mh,ffps)\n",
    "\n",
    "# add torsion constraints for each CCCC torsion:\n",
    "ms = mh.GetSubstructMatches(Chem.MolFromSmiles('CCCC'))\n",
    "for i,j,k,l in ms:\n",
    "    ff.MMFFAddTorsionConstraint(i,j,k,l,False,175.,185.,1e05)\n",
    "\n",
    "# minimze:    \n",
    "while ff.Minimize():\n",
    "    pass"
   ]
  },
  {
   "cell_type": "code",
   "execution_count": 5,
   "metadata": {},
   "outputs": [
    {
     "data": {
      "application/3dmoljs_load.v0": "<div id=\"3dmolviewer_15537809242908869\"  style=\"position: relative; width: 400px; height: 400px\">\n        <p id=\"3dmolwarning_15537809242908869\" style=\"background-color:#ffcccc;color:black\">You appear to be running in JupyterLab (or JavaScript failed to load for some other reason).  You need to install the 3dmol extension: <br>\n        <tt>jupyter labextension install jupyterlab_3dmol</tt></p>\n        </div>\n<script>\n\nvar loadScriptAsync = function(uri){\n  return new Promise((resolve, reject) => {\n    var tag = document.createElement('script');\n    tag.src = uri;\n    tag.async = true;\n    tag.onload = () => {\n      resolve();\n    };\n  var firstScriptTag = document.getElementsByTagName('script')[0];\n  firstScriptTag.parentNode.insertBefore(tag, firstScriptTag);\n});\n};\n\nif(typeof $3Dmolpromise === 'undefined') {\n$3Dmolpromise = null;\n  $3Dmolpromise = loadScriptAsync('https://3dmol.csb.pitt.edu/build/3Dmol.js');\n}\n\nvar viewer_15537809242908869 = null;\nvar warn = document.getElementById(\"3dmolwarning_15537809242908869\");\nif(warn) {\n    warn.parentNode.removeChild(warn);\n}\n$3Dmolpromise.then(function() {\nviewer_15537809242908869 = $3Dmol.createViewer($(\"#3dmolviewer_15537809242908869\"),{backgroundColor:\"white\"});\n\tviewer_15537809242908869.removeAllModels();\n\tviewer_15537809242908869.addModel(\"\\n     RDKit          3D\\n\\n 26 25  0  0  0  0  0  0  0  0999 V2000\\n   -4.3994   -0.5338   -0.1542 C   0  0  0  0  0  0  0  0  0  0  0  0\\n   -3.1328   -0.1264    0.5815 C   0  0  0  0  0  0  0  0  0  0  0  0\\n   -1.8925   -0.3160   -0.2914 C   0  0  0  0  0  0  0  0  0  0  0  0\\n   -0.6207    0.0949    0.4524 C   0  0  0  0  0  0  0  0  0  0  0  0\\n    0.6206   -0.0949   -0.4211 C   0  0  0  0  0  0  0  0  0  0  0  0\\n    1.8925    0.3160    0.3227 C   0  0  0  0  0  0  0  0  0  0  0  0\\n    3.1328    0.1264   -0.5502 C   0  0  0  0  0  0  0  0  0  0  0  0\\n    4.3994    0.5337    0.1856 C   0  0  0  0  0  0  0  0  0  0  0  0\\n   -5.2737   -0.3901    0.4882 H   0  0  0  0  0  0  0  0  0  0  0  0\\n   -4.3617   -1.5883   -0.4459 H   0  0  0  0  0  0  0  0  0  0  0  0\\n   -4.5391    0.0682   -1.0578 H   0  0  0  0  0  0  0  0  0  0  0  0\\n   -3.2163    0.9230    0.8871 H   0  0  0  0  0  0  0  0  0  0  0  0\\n   -3.0399   -0.7243    1.4956 H   0  0  0  0  0  0  0  0  0  0  0  0\\n   -1.8160   -1.3664   -0.5978 H   0  0  0  0  0  0  0  0  0  0  0  0\\n   -1.9923    0.2808   -1.2062 H   0  0  0  0  0  0  0  0  0  0  0  0\\n   -0.6973    1.1453    0.7585 H   0  0  0  0  0  0  0  0  0  0  0  0\\n   -0.5209   -0.5021    1.3670 H   0  0  0  0  0  0  0  0  0  0  0  0\\n    0.6973   -1.1453   -0.7272 H   0  0  0  0  0  0  0  0  0  0  0  0\\n    0.5209    0.5021   -1.3358 H   0  0  0  0  0  0  0  0  0  0  0  0\\n    1.8160    1.3664    0.6291 H   0  0  0  0  0  0  0  0  0  0  0  0\\n    1.9923   -0.2808    1.2375 H   0  0  0  0  0  0  0  0  0  0  0  0\\n    3.2163   -0.9230   -0.8560 H   0  0  0  0  0  0  0  0  0  0  0  0\\n    3.0400    0.7244   -1.4643 H   0  0  0  0  0  0  0  0  0  0  0  0\\n    4.5391   -0.0684    1.0890 H   0  0  0  0  0  0  0  0  0  0  0  0\\n    4.3618    1.5881    0.4774 H   0  0  0  0  0  0  0  0  0  0  0  0\\n    5.2738    0.3901   -0.4569 H   0  0  0  0  0  0  0  0  0  0  0  0\\n  1  2  1  0\\n  2  3  1  0\\n  3  4  1  0\\n  4  5  1  0\\n  5  6  1  0\\n  6  7  1  0\\n  7  8  1  0\\n  1  9  1  0\\n  1 10  1  0\\n  1 11  1  0\\n  2 12  1  0\\n  2 13  1  0\\n  3 14  1  0\\n  3 15  1  0\\n  4 16  1  0\\n  4 17  1  0\\n  5 18  1  0\\n  5 19  1  0\\n  6 20  1  0\\n  6 21  1  0\\n  7 22  1  0\\n  7 23  1  0\\n  8 24  1  0\\n  8 25  1  0\\n  8 26  1  0\\nM  END\\n\",\"sdf\");\n\tviewer_15537809242908869.setStyle({\"stick\": {}});\n\tviewer_15537809242908869.setBackgroundColor(\"0xeeeeee\");\n\tviewer_15537809242908869.zoomTo();\nviewer_15537809242908869.render();\n});\n</script>",
      "text/html": [
       "<div id=\"3dmolviewer_15537809242908869\"  style=\"position: relative; width: 400px; height: 400px\">\n",
       "        <p id=\"3dmolwarning_15537809242908869\" style=\"background-color:#ffcccc;color:black\">You appear to be running in JupyterLab (or JavaScript failed to load for some other reason).  You need to install the 3dmol extension: <br>\n",
       "        <tt>jupyter labextension install jupyterlab_3dmol</tt></p>\n",
       "        </div>\n",
       "<script>\n",
       "\n",
       "var loadScriptAsync = function(uri){\n",
       "  return new Promise((resolve, reject) => {\n",
       "    var tag = document.createElement('script');\n",
       "    tag.src = uri;\n",
       "    tag.async = true;\n",
       "    tag.onload = () => {\n",
       "      resolve();\n",
       "    };\n",
       "  var firstScriptTag = document.getElementsByTagName('script')[0];\n",
       "  firstScriptTag.parentNode.insertBefore(tag, firstScriptTag);\n",
       "});\n",
       "};\n",
       "\n",
       "if(typeof $3Dmolpromise === 'undefined') {\n",
       "$3Dmolpromise = null;\n",
       "  $3Dmolpromise = loadScriptAsync('https://3dmol.csb.pitt.edu/build/3Dmol.js');\n",
       "}\n",
       "\n",
       "var viewer_15537809242908869 = null;\n",
       "var warn = document.getElementById(\"3dmolwarning_15537809242908869\");\n",
       "if(warn) {\n",
       "    warn.parentNode.removeChild(warn);\n",
       "}\n",
       "$3Dmolpromise.then(function() {\n",
       "viewer_15537809242908869 = $3Dmol.createViewer($(\"#3dmolviewer_15537809242908869\"),{backgroundColor:\"white\"});\n",
       "\tviewer_15537809242908869.removeAllModels();\n",
       "\tviewer_15537809242908869.addModel(\"\\n     RDKit          3D\\n\\n 26 25  0  0  0  0  0  0  0  0999 V2000\\n   -4.3994   -0.5338   -0.1542 C   0  0  0  0  0  0  0  0  0  0  0  0\\n   -3.1328   -0.1264    0.5815 C   0  0  0  0  0  0  0  0  0  0  0  0\\n   -1.8925   -0.3160   -0.2914 C   0  0  0  0  0  0  0  0  0  0  0  0\\n   -0.6207    0.0949    0.4524 C   0  0  0  0  0  0  0  0  0  0  0  0\\n    0.6206   -0.0949   -0.4211 C   0  0  0  0  0  0  0  0  0  0  0  0\\n    1.8925    0.3160    0.3227 C   0  0  0  0  0  0  0  0  0  0  0  0\\n    3.1328    0.1264   -0.5502 C   0  0  0  0  0  0  0  0  0  0  0  0\\n    4.3994    0.5337    0.1856 C   0  0  0  0  0  0  0  0  0  0  0  0\\n   -5.2737   -0.3901    0.4882 H   0  0  0  0  0  0  0  0  0  0  0  0\\n   -4.3617   -1.5883   -0.4459 H   0  0  0  0  0  0  0  0  0  0  0  0\\n   -4.5391    0.0682   -1.0578 H   0  0  0  0  0  0  0  0  0  0  0  0\\n   -3.2163    0.9230    0.8871 H   0  0  0  0  0  0  0  0  0  0  0  0\\n   -3.0399   -0.7243    1.4956 H   0  0  0  0  0  0  0  0  0  0  0  0\\n   -1.8160   -1.3664   -0.5978 H   0  0  0  0  0  0  0  0  0  0  0  0\\n   -1.9923    0.2808   -1.2062 H   0  0  0  0  0  0  0  0  0  0  0  0\\n   -0.6973    1.1453    0.7585 H   0  0  0  0  0  0  0  0  0  0  0  0\\n   -0.5209   -0.5021    1.3670 H   0  0  0  0  0  0  0  0  0  0  0  0\\n    0.6973   -1.1453   -0.7272 H   0  0  0  0  0  0  0  0  0  0  0  0\\n    0.5209    0.5021   -1.3358 H   0  0  0  0  0  0  0  0  0  0  0  0\\n    1.8160    1.3664    0.6291 H   0  0  0  0  0  0  0  0  0  0  0  0\\n    1.9923   -0.2808    1.2375 H   0  0  0  0  0  0  0  0  0  0  0  0\\n    3.2163   -0.9230   -0.8560 H   0  0  0  0  0  0  0  0  0  0  0  0\\n    3.0400    0.7244   -1.4643 H   0  0  0  0  0  0  0  0  0  0  0  0\\n    4.5391   -0.0684    1.0890 H   0  0  0  0  0  0  0  0  0  0  0  0\\n    4.3618    1.5881    0.4774 H   0  0  0  0  0  0  0  0  0  0  0  0\\n    5.2738    0.3901   -0.4569 H   0  0  0  0  0  0  0  0  0  0  0  0\\n  1  2  1  0\\n  2  3  1  0\\n  3  4  1  0\\n  4  5  1  0\\n  5  6  1  0\\n  6  7  1  0\\n  7  8  1  0\\n  1  9  1  0\\n  1 10  1  0\\n  1 11  1  0\\n  2 12  1  0\\n  2 13  1  0\\n  3 14  1  0\\n  3 15  1  0\\n  4 16  1  0\\n  4 17  1  0\\n  5 18  1  0\\n  5 19  1  0\\n  6 20  1  0\\n  6 21  1  0\\n  7 22  1  0\\n  7 23  1  0\\n  8 24  1  0\\n  8 25  1  0\\n  8 26  1  0\\nM  END\\n\",\"sdf\");\n",
       "\tviewer_15537809242908869.setStyle({\"stick\": {}});\n",
       "\tviewer_15537809242908869.setBackgroundColor(\"0xeeeeee\");\n",
       "\tviewer_15537809242908869.zoomTo();\n",
       "viewer_15537809242908869.render();\n",
       "});\n",
       "</script>"
      ]
     },
     "metadata": {},
     "output_type": "display_data"
    }
   ],
   "source": [
    "IPythonConsole.drawMol3D(mh)"
   ]
  },
  {
   "cell_type": "code",
   "execution_count": 6,
   "metadata": {},
   "outputs": [
    {
     "name": "stdout",
     "output_type": "stream",
     "text": [
      "HETATM    1  C1  UNL     1      -4.399  -0.534  -0.154  1.00  0.00           C  \n",
      "HETATM    2  C2  UNL     1      -3.133  -0.126   0.581  1.00  0.00           C  \n",
      "HETATM    3  C3  UNL     1      -1.892  -0.316  -0.291  1.00  0.00           C  \n",
      "HETATM    4  C4  UNL     1      -0.621   0.095   0.452  1.00  0.00           C  \n",
      "HETATM    5  C5  UNL     1       0.621  -0.095  -0.421  1.00  0.00           C  \n",
      "HETATM    6  C6  UNL     1       1.892   0.316   0.323  1.00  0.00           C  \n",
      "HETATM    7  C7  UNL     1       3.133   0.126  -0.550  1.00  0.00           C  \n",
      "HETATM    8  C8  UNL     1       4.399   0.534   0.186  1.00  0.00           C  \n",
      "HETATM    9  H1  UNL     1      -5.274  -0.390   0.488  1.00  0.00           H  \n",
      "HETATM   10  H2  UNL     1      -4.362  -1.588  -0.446  1.00  0.00           H  \n",
      "HETATM   11  H3  UNL     1      -4.539   0.068  -1.058  1.00  0.00           H  \n",
      "HETATM   12  H4  UNL     1      -3.216   0.923   0.887  1.00  0.00           H  \n",
      "HETATM   13  H5  UNL     1      -3.040  -0.724   1.496  1.00  0.00           H  \n",
      "HETATM   14  H6  UNL     1      -1.816  -1.366  -0.598  1.00  0.00           H  \n",
      "HETATM   15  H7  UNL     1      -1.992   0.281  -1.206  1.00  0.00           H  \n",
      "HETATM   16  H8  UNL     1      -0.697   1.145   0.758  1.00  0.00           H  \n",
      "HETATM   17  H9  UNL     1      -0.521  -0.502   1.367  1.00  0.00           H  \n",
      "HETATM   18  H10 UNL     1       0.697  -1.145  -0.727  1.00  0.00           H  \n",
      "HETATM   19  H11 UNL     1       0.521   0.502  -1.336  1.00  0.00           H  \n",
      "HETATM   20  H12 UNL     1       1.816   1.366   0.629  1.00  0.00           H  \n",
      "HETATM   21  H13 UNL     1       1.992  -0.281   1.237  1.00  0.00           H  \n",
      "HETATM   22  H14 UNL     1       3.216  -0.923  -0.856  1.00  0.00           H  \n",
      "HETATM   23  H15 UNL     1       3.040   0.724  -1.464  1.00  0.00           H  \n",
      "HETATM   24  H16 UNL     1       4.539  -0.068   1.089  1.00  0.00           H  \n",
      "HETATM   25  H17 UNL     1       4.362   1.588   0.477  1.00  0.00           H  \n",
      "HETATM   26  H18 UNL     1       5.274   0.390  -0.457  1.00  0.00           H  \n",
      "CONECT    1    2    9   10   11\n",
      "CONECT    2    3   12   13\n",
      "CONECT    3    4   14   15\n",
      "CONECT    4    5   16   17\n",
      "CONECT    5    6   18   19\n",
      "CONECT    6    7   20   21\n",
      "CONECT    7    8   22   23\n",
      "CONECT    8   24   25   26\n",
      "END\n",
      "\n"
     ]
    }
   ],
   "source": [
    "print(Chem.MolToPDBBlock(mh))"
   ]
  },
  {
   "cell_type": "code",
   "execution_count": 7,
   "metadata": {},
   "outputs": [
    {
     "name": "stdout",
     "output_type": "stream",
     "text": [
      "\n",
      "     RDKit          3D\n",
      "\n",
      " 26 25  0  0  0  0  0  0  0  0999 V2000\n",
      "   -4.3994   -0.5338   -0.1542 C   0  0  0  0  0  0  0  0  0  0  0  0\n",
      "   -3.1328   -0.1264    0.5815 C   0  0  0  0  0  0  0  0  0  0  0  0\n",
      "   -1.8925   -0.3160   -0.2914 C   0  0  0  0  0  0  0  0  0  0  0  0\n",
      "   -0.6207    0.0949    0.4524 C   0  0  0  0  0  0  0  0  0  0  0  0\n",
      "    0.6206   -0.0949   -0.4211 C   0  0  0  0  0  0  0  0  0  0  0  0\n",
      "    1.8925    0.3160    0.3227 C   0  0  0  0  0  0  0  0  0  0  0  0\n",
      "    3.1328    0.1264   -0.5502 C   0  0  0  0  0  0  0  0  0  0  0  0\n",
      "    4.3994    0.5337    0.1856 C   0  0  0  0  0  0  0  0  0  0  0  0\n",
      "   -5.2737   -0.3901    0.4882 H   0  0  0  0  0  0  0  0  0  0  0  0\n",
      "   -4.3617   -1.5883   -0.4459 H   0  0  0  0  0  0  0  0  0  0  0  0\n",
      "   -4.5391    0.0682   -1.0578 H   0  0  0  0  0  0  0  0  0  0  0  0\n",
      "   -3.2163    0.9230    0.8871 H   0  0  0  0  0  0  0  0  0  0  0  0\n",
      "   -3.0399   -0.7243    1.4956 H   0  0  0  0  0  0  0  0  0  0  0  0\n",
      "   -1.8160   -1.3664   -0.5978 H   0  0  0  0  0  0  0  0  0  0  0  0\n",
      "   -1.9923    0.2808   -1.2062 H   0  0  0  0  0  0  0  0  0  0  0  0\n",
      "   -0.6973    1.1453    0.7585 H   0  0  0  0  0  0  0  0  0  0  0  0\n",
      "   -0.5209   -0.5021    1.3670 H   0  0  0  0  0  0  0  0  0  0  0  0\n",
      "    0.6973   -1.1453   -0.7272 H   0  0  0  0  0  0  0  0  0  0  0  0\n",
      "    0.5209    0.5021   -1.3358 H   0  0  0  0  0  0  0  0  0  0  0  0\n",
      "    1.8160    1.3664    0.6291 H   0  0  0  0  0  0  0  0  0  0  0  0\n",
      "    1.9923   -0.2808    1.2375 H   0  0  0  0  0  0  0  0  0  0  0  0\n",
      "    3.2163   -0.9230   -0.8560 H   0  0  0  0  0  0  0  0  0  0  0  0\n",
      "    3.0400    0.7244   -1.4643 H   0  0  0  0  0  0  0  0  0  0  0  0\n",
      "    4.5391   -0.0684    1.0890 H   0  0  0  0  0  0  0  0  0  0  0  0\n",
      "    4.3618    1.5881    0.4774 H   0  0  0  0  0  0  0  0  0  0  0  0\n",
      "    5.2738    0.3901   -0.4569 H   0  0  0  0  0  0  0  0  0  0  0  0\n",
      "  1  2  1  0\n",
      "  2  3  1  0\n",
      "  3  4  1  0\n",
      "  4  5  1  0\n",
      "  5  6  1  0\n",
      "  6  7  1  0\n",
      "  7  8  1  0\n",
      "  1  9  1  0\n",
      "  1 10  1  0\n",
      "  1 11  1  0\n",
      "  2 12  1  0\n",
      "  2 13  1  0\n",
      "  3 14  1  0\n",
      "  3 15  1  0\n",
      "  4 16  1  0\n",
      "  4 17  1  0\n",
      "  5 18  1  0\n",
      "  5 19  1  0\n",
      "  6 20  1  0\n",
      "  6 21  1  0\n",
      "  7 22  1  0\n",
      "  7 23  1  0\n",
      "  8 24  1  0\n",
      "  8 25  1  0\n",
      "  8 26  1  0\n",
      "M  END\n",
      "\n"
     ]
    }
   ],
   "source": [
    "print(Chem.MolToMolBlock(mh))"
   ]
  },
  {
   "cell_type": "code",
   "execution_count": null,
   "metadata": {},
   "outputs": [],
   "source": []
  },
  {
   "cell_type": "code",
   "execution_count": null,
   "metadata": {},
   "outputs": [],
   "source": []
  }
 ],
 "metadata": {
  "_draft": {
   "nbviewer_url": "https://gist.github.com/578193d5f3ccf5a87141262e2562b82e"
  },
  "gist": {
   "data": {
    "description": "TorsionConstraints.ipynb",
    "public": true
   },
   "id": "578193d5f3ccf5a87141262e2562b82e"
  },
  "kernelspec": {
   "display_name": "Python 3",
   "language": "python",
   "name": "python3"
  },
  "language_info": {
   "codemirror_mode": {
    "name": "ipython",
    "version": 3
   },
   "file_extension": ".py",
   "mimetype": "text/x-python",
   "name": "python",
   "nbconvert_exporter": "python",
   "pygments_lexer": "ipython3",
   "version": "3.6.8"
  }
 },
 "nbformat": 4,
 "nbformat_minor": 2
}
